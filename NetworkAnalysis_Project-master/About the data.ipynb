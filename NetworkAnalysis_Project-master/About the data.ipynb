{
 "cells": [
  {
   "cell_type": "markdown",
   "metadata": {},
   "source": [
    "# Information about data"
   ]
  },
  {
   "cell_type": "markdown",
   "metadata": {},
   "source": [
    "### Original data is taken from https://www.transtats.bts.gov/DL_SelectFields.asp?Table_ID=310\n",
    "## Data: T-100 Domestic Market (All Carriers) 2016 \n",
    "The Air Carrier Statistics database, also known as the T-100 data bank, contains domestic and international airline market and segment data. Certificated U.S. air carriers report monthly air carrier traffic information using Form T-100. The data is collected by the Office of Airline Information, Bureau of Transportation Statistics."
   ]
  },
  {
   "cell_type": "markdown",
   "metadata": {},
   "source": [
    "### The data consists of:\n",
    "**Passenger** - Any person on board a flight who is not a member of the flight or cabin crew. \\\n",
    "**Freight**\t- Property, other than express and passenger baggage transported by air(pounds.\\\n",
    "**Mail** - Flight Market Mail Enplaned (pounds).\\\n",
    "**Airline ID** -An identification number assigned by US DOT to identify a unique airline (carrier). Use this field for analysis across a range of years.\\\n",
    "**CarrierGroup** - Carrier Group Code. Used in Legacy Analysis\\\n",
    "**CarrierGroupNew** - Carrier Group New Code.\\\n",
    "**Origin Airport ID** - Outbound airport id. An identification number assigned by US DOT to identify a unique airport. Use this field for airport analysis across a range of years.\\\n",
    "**OriginCityName** - City of airport.\\\n",
    "**Destination Airport ID** - inbound aiport id. An identification number assigned by US DOT to identify a unique airport. Use this field for airport analysis across a range of years.\\\n",
    "**DestCityName** - Destination City\\\n",
    "**Quarter** - quarter of year.\\\n",
    "**Month** - Month of  year.\\\n",
    "**DistanceGroup** - Distance Intervals, every 500 Miles, for Flight Segment.\\\n",
    "**Class** - type of the service class. F.e.\"Scheduled Passenger/ Cargo Service F\".\\\n",
    "\n",
    "The additoonal information about some of the parameters can be found in folder metadata."
   ]
  },
  {
   "cell_type": "markdown",
   "metadata": {},
   "source": [
    "### USA domestic airnetwork from data.\n",
    "#### Nodes - Airport ID - The number of connected nodes: 1236.\n",
    "To create the network from the data we take \"Airpot Id\" as nodes. As it is indetification number assigned by US DOT, it is unik, and would allow to analise accros year, if needed. The number of connected nodes: 1236.\\\n",
    "Note: the amount of nodes is bigger, then the amount of connected nodes. There were 5136 public aiports in USA in 2016.\n",
    "#### Edges - Flights between airports.\n",
    "Data gives \"Origin Airport ID\" and \"Destination Airport ID\", so the network should be DIRECTED grath. The data also have information about different airlines between same airport and loops - flights with same starting and ending nodes, it also can be analized as multigraph. So the amount of edges would depend on the grath.\n",
    "\n",
    "#### Weights - ???\n",
    "Where is few different posibilities for creating weights for network. Since airlines report amount of pasangers , freight and mail for each line monthly we can count:\\\n",
    "1.amount of different airlines on edge (if we make digraph)\\\n",
    "2.amount of passengers\\\n",
    "3.amount of freight\\\n",
    "4.amount of mail\\\n",
    "5 or combination of all parameters??? (HOW?)\\\n",
    "Depends on research question."
   ]
  },
  {
   "cell_type": "markdown",
   "metadata": {},
   "source": [
    "#### Cleaning of data\n",
    "1.The data has grouping by class, same airlines reporting amounts by different groups, f.e. the amount of passangers records separately for schedulled and not schedulled flights.\\\n",
    "2.As the data is reported monthly, we have a lot of same di edges for same airlines for different month. So we need to recount this data anually.\\\n",
    "3.There is data, what has all amounts (passengers, freight and mail) as 0.  "
   ]
  }
 ],
 "metadata": {
  "kernelspec": {
   "display_name": "Python 3",
   "language": "python",
   "name": "python3"
  },
  "language_info": {
   "codemirror_mode": {
    "name": "ipython",
    "version": 3
   },
   "file_extension": ".py",
   "mimetype": "text/x-python",
   "name": "python",
   "nbconvert_exporter": "python",
   "pygments_lexer": "ipython3",
   "version": "3.7.4"
  }
 },
 "nbformat": 4,
 "nbformat_minor": 2
}
